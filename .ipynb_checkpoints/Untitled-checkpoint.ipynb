{
 "cells": [
  {
   "cell_type": "code",
   "execution_count": 13,
   "id": "f029600e-e5bf-4dae-8839-c6cd332755c1",
   "metadata": {},
   "outputs": [],
   "source": [
    "import urllib.request\n",
    "import os.path"
   ]
  },
  {
   "cell_type": "code",
   "execution_count": 15,
   "id": "622fb582-11b1-403a-bedf-0e427848388b",
   "metadata": {},
   "outputs": [],
   "source": [
    "DB_PATH = \"data/\"\n",
    "DB_FILE = \"ds-plus-final.db\""
   ]
  },
  {
   "cell_type": "code",
   "execution_count": 19,
   "id": "7049ab10-3d0a-4ea4-82bd-7b97c1aebe91",
   "metadata": {},
   "outputs": [
    {
     "name": "stdout",
     "output_type": "stream",
     "text": [
      "База данных ds-plus-final.db уже загружена\n"
     ]
    }
   ],
   "source": [
    "if not os.path.exists(DB_PATH+DB_FILE):\n",
    "    urllib.request.urlretrieve(\"https://code.s3.yandex.net/data-scientist/ds-plus-final.db\", DB_PATH+DB_FILE)\n",
    "    print(f\"База данных {DB_FILE} загружена\")\n",
    "else:\n",
    "    print(f\"База данных {DB_FILE} уже загружена\")"
   ]
  },
  {
   "cell_type": "code",
   "execution_count": null,
   "id": "df743396-c5fd-41b3-8770-322af76eb4e8",
   "metadata": {},
   "outputs": [],
   "source": []
  }
 ],
 "metadata": {
  "kernelspec": {
   "display_name": "Python [conda env:base] *",
   "language": "python",
   "name": "conda-base-py"
  },
  "language_info": {
   "codemirror_mode": {
    "name": "ipython",
    "version": 3
   },
   "file_extension": ".py",
   "mimetype": "text/x-python",
   "name": "python",
   "nbconvert_exporter": "python",
   "pygments_lexer": "ipython3",
   "version": "3.12.7"
  }
 },
 "nbformat": 4,
 "nbformat_minor": 5
}
